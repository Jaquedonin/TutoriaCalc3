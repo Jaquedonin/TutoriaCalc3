{
 "cells": [
  {
   "cell_type": "markdown",
   "metadata": {
    "colab_type": "text",
    "id": "ffBEfdzZuhIQ"
   },
   "source": [
    "# Manual PROTUT-CI 2019 - Cálculo Diferencial e Integral III\n",
    "\n",
    "## 1. Introdução\n",
    "\n",
    "    A forma como cada pessoa aprende pode diferir bastante, enquanto alguns conseguem absorver conhecimento apenas escutar outra pessoa falando, outras precisam praticar várias e várias vezes até que o conhecimento seja consolidado. Esta última é uma realidade para a maioria dos estudantes de ensino superior que cursam disciplinas de exatas e tendem a passar pelo árduo processo de praticar para absorver o conhecimento.\n",
    "    Porém existem várias formas práticas de se exercitar o cérebro para adquirir aquele conhecimento. O emprego de recursos tecnológicos como ferramenta para auxiliar nesse processo pode ser crucial. Atualmente, existem diversas ferramentas que plotam gráficos em duas e três dimensões e isso facilita, por exemplo, na hora de encontrar os limites de integração de uma integral dupla.  \n",
    "      \n",
    "\n",
    "### 1.1. Objetivos\n",
    "\n",
    "    Os objetivos do programa de tutoria é oferecer suporte aos alunos do centro de informática nas cadeiras básicas de cálculo como: Cálculo Diferencial e Integral, Álgebra Linear e Cálculo Vetorial. Além disso, oferecer material de suporte com linguagem simples e de fácil acesso aos alunos, para que eles possam praticar os conteúdos de cálculo e também programação matemática utilizando Python\n",
    "    \n",
    "\n",
    "### 1.2. Informações da Tutoria\n",
    "\n",
    "    Horários de atendimento, locais e contato dos tutores.\n",
    "\n",
    "### 1.3. Introdução à Disciplina de Cálculo Diferencial e Integral III\n",
    "\n",
    "    Na disciplina de Cálculo Diferencial e Integral II são dadas as técnicas básicas de integração de uma função de uma variável, assim como o teorema fundamental do cálculo e a definição de integrais definidas, indefinidas e impróprias. Agora que já sabemos o básico sobre integrais podemos avançar um pouco mais e começar a falar sobre duas e três variáveis.\n",
    "    Normalmente, cada professor definide a ordem que os conteúdos serão dados, nesta apostila primeiramente falaremos sobre Integrais duplas e triplas, depois Integrais de Linha e de Superfície e, por último, Teoremas de Gauss e Stokes.\n",
    "    \n",
    "\n"
   ]
  },
  {
   "cell_type": "markdown",
   "metadata": {},
   "source": [
    "# Imports"
   ]
  },
  {
   "cell_type": "code",
   "execution_count": 5,
   "metadata": {},
   "outputs": [],
   "source": [
    "import numpy as np\n",
    "import matplotlib.pyplot as plt\n",
    "from matplotlib.patches import Polygon\n",
    "import scipy.integrate as integrate\n",
    "import scipy.special as special\n",
    "from sympy import pprint, init_printing, Symbol, sin, cos, exp, sqrt, series, Integral, Function"
   ]
  },
  {
   "cell_type": "markdown",
   "metadata": {},
   "source": [
    "## 2. Tópicos gerias da apostila\n",
    "\n",
    "\n",
    "    1. Integrais duplas, triplas e aplicações.\n",
    "\n",
    "    2. Integrais de Linha e de Superfície.\n",
    "\n",
    "    3. Teoremas de Gauss e de Stokes.\n",
    "\n",
    "\n",
    "## 3. Programa\n",
    "\n",
    "### 3.1 Integrais Duplas e Triplas: \n",
    "    \n",
    "    1. Definições: chamamos integrais de funções de várias variáveis de integrais múltiplas. Elas nos auxiliam no cálculo de, por exemplo, áreas de superfícies, centros de massa, probabilidade, valores médios e volumes.\n",
    "#### 3.1.1 Integral Dupla\n",
    "     A primeira semelhança entre as integrais simples que já estudamos e a integral dupla é que ambas são definidas como limites de somas de Riemann. A integral dupla também apresenta sinal no cálculo do volume, assim como o teorema fundamental do cálculo continua sendo usado, só que devemos aplicá-lo duas vezes. \n",
    "    Consideremos a função de duas variáveis f definida em um retângulo fechado, de modo:\n",
    "        D = [a,b] x [c,d] = {(x,y) pertence IR² | a <= x => b , c <= y <= d}.\n",
    "    Vamos supor que : f(x,y) => 0 e seu gráfico é a superfície com equação z = f(x,y). S é o sólido que está acima da região D e abaixo do gráfico de f, portanto:\n",
    "        S = {(x,y,z) percente IR³ | 0 <= z <= f(x,y), (x,y) pertence IR}\n",
    "##### Definição: \n",
    "        A integral dupla de função f sobre o retãngulo D é:\n",
    "        \n",
    "    \n",
    "    3. Propriedades das integrais duplas e triplas. \n",
    "    4. Mudança de variáveis na integração, emprego de:\n",
    "        1. Coordenadas polares;\n",
    "        2. Coordenadas cilíndricas;  \n",
    "        3. Coordenadas esféricas. \n",
    "    5. Aplicações das integrais duplas e triplas. \n",
    "    6. Cálculo de volumes, massas, momentos estáticos, centros de massa, momentos de inércia.\n",
    "\n",
    "\n"
   ]
  },
  {
   $\psi +2x - y \div (4 - 2) = \int x dx\neq \phi \times \alpha$

   "cell_type": "code",
   "execution_count": 18,
   "metadata": {},
   "outputs": [
    {
     "name": "stdout",
     "output_type": "stream",
     "text": [
      " ⎛ x⎞\n",
      " ⎝ℯ ⎠\n",
      "x    \n",
      "⌠\n",
      "|  f(x)dx\n",
      "⌡\n"
     ]
    }
   ],
   "source": [
    "x = Symbol(\"x\")\n",
    "y = Symbol(\"y\")\n",
    "f = Function('f')\n",
    "# pprint usará padrão unicode se disponível\n",
    "pprint( x**exp(x) )\n",
    "#pprint(Integral(f(x), x), use_unicode=False)\n",
    "a = Symbol('⌠')\n",
    "b = Symbol('|') \n",
    "c = Symbol (' f(x)dx')\n",
    "d = Symbol ('⌡')\n",
    "print (a)\n",
    "print (b,c)\n",
    "print (d)"
   ]
  },
  {
   "cell_type": "markdown",
   "metadata": {},
   "source": [
    "### 3.2 Funções Vetoriais: \n",
    "    1. Definição. \n",
    "    2. Limite, continuidade e derivação.\n",
    "\n",
    "\n",
    "### 3.3 Curvas em IR² e IR³: \n",
    "    1. Parametrização; \n",
    "    2. Vetor tangente; \n",
    "    3. Comprimento de arco; \n",
    "    4. Fórmulas de Frenet, curvatura e torção; \n",
    "    5. Velocidade e aceleração.\n",
    "\n",
    "\n",
    "### 3.4 Integrais de Linha: \n",
    "    1. Definição;\n",
    "    2. Principais propriedades;\n",
    "    3. Teorema de Green; \n",
    "    4. Aplicações.\n",
    "\n",
    "\n",
    "### 3.5 Campos Escalares e Vetoriais: \n",
    "    1. Definições. \n",
    "    2. Derivada direcional, gradiente, divergência, rotacional e laplaciano.\n",
    "\n",
    "\n",
    "### 3.6 Superfícies em IR³ : \n",
    "    1. Superfícies de nível;\n",
    "    2. Parametrização de uma superfície;\n",
    "    3. Plano tangente e reta normal;\n",
    "    4. Primeira forma quadrática;\n",
    "    5. Área de uma superfície;\n",
    "    6. Superfícies orientáveis.\n",
    "\n",
    "\n",
    "### 3.7 Integrais de Superfícies: \n",
    "    1. Definição;\n",
    "    2. Cálculo e principais propriedades;\n",
    "    3. Aplicações.\n",
    "\n",
    "\n",
    "### 3.8 Teorema da Divergência de Gauss e Teorema de Stokes: \n",
    "    1. Enunciados dos teoremas;\n",
    "    2. Aplicações.\n",
    "\n",
    "\n",
    "### 3.9 Integrais de Linha Independentes do Caminho: \n",
    "    1. Caracteriçação de campos conservativos."
   ]
  }
 ],
 "metadata": {
  "colab": {
   "default_view": {},
   "name": "ebook-c3.ipynb",
   "provenance": [],
   "version": "0.3.2",
   "views": {}
  },
  "kernelspec": {
   "display_name": "Python 3",
   "language": "python",
   "name": "python3"
  },
  "language_info": {
   "codemirror_mode": {
    "name": "ipython",
    "version": 3
   },
   "file_extension": ".py",
   "mimetype": "text/x-python",
   "name": "python",
   "nbconvert_exporter": "python",
   "pygments_lexer": "ipython3",
   "version": "3.7.3"
  }
 },
 "nbformat": 4,
 "nbformat_minor": 1
}

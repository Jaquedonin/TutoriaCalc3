{
 "cells": [
  {
   "cell_type": "markdown",
   "metadata": {
    "colab_type": "text",
    "id": "ffBEfdzZuhIQ"
   },
   "source": [
    "# Template Minicurso Markdown e Collab\n",
    "\n",
    "[Cheat Sheet  Markdown](https://beegit.com/markdown-cheat-sheet)\n",
    "\n",
    "[Cheat Sheet Mathjax](https://math.meta.stackexchange.com/questions/5020/mathjax-basic-tutorial-and-quick-reference)\n",
    "\n",
    "Completar as seções abaixo utilizando o Markdown.\n",
    "\n",
    "----\n",
    "\n",
    "# Manual PROTUT-CI 2018 - {Nome da disciplina}\n",
    "\n",
    "## 1.Introdução\n",
    "\n",
    "### 1.1. Objetivos\n",
    "\n",
    "Objetivos da tutoria e do material de suporte.\n",
    "\n",
    "### 1.2. Informações da Tutoria\n",
    "\n",
    "Horários de atendimento, locais e contato dos tutores.\n",
    "\n",
    "### 1.3. Introdução à Disciplina\n",
    "\n",
    "Breve apresentação da disciplina, tópicos a serem abordados.\n",
    "\n",
    "## 2. Tópico da disciplina\n",
    "\n",
    "Breve explicação."
   ]
  }
 ],
 "metadata": {
  "colab": {
   "default_view": {},
   "name": "template.ipynb",
   "provenance": [],
   "version": "0.3.2",
   "views": {}
  },
  "kernelspec": {
   "display_name": "Python 3",
   "language": "python",
   "name": "python3"
  },
  "language_info": {
   "codemirror_mode": {
    "name": "ipython",
    "version": 3
   },
   "file_extension": ".py",
   "mimetype": "text/x-python",
   "name": "python",
   "nbconvert_exporter": "python",
   "pygments_lexer": "ipython3",
   "version": "3.7.3"
  }
 },
 "nbformat": 4,
 "nbformat_minor": 1
}

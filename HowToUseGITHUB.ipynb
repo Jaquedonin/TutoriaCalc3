{
 "cells": [
  {
   "cell_type": "markdown",
   "metadata": {},
   "source": [
    "# Tutorial de utilização do GitHub no Ubuntu\n",
    "\n",
    "Abaxo estão listados os itens que serão abordado neste breve tutorial sobre o GitHub.  \n",
    "    \n",
    "    1. Como instalar o GitHub no Ubuntu\n",
    "    2. Como clonar um repositório\n",
    "    3. Como criar um repositório\n",
    "    4. Como dar commit no repositório\n",
    "    5. Criar uma nova branch no repositório\n",
    "\n",
    "  \n",
    "    "
   ]
  },
  {
   "cell_type": "markdown",
   "metadata": {},
   "source": [
    "## Alguns termos importantes\n",
    "\n",
    "    1. Repositório: pode ser sua conta em um das plataformas existentes para controle de versão de código, como GitHub, GitLab e Mercurial. Mas também pode ser um projeto existente em uma destas plataformas.\n",
    "    \n",
    "    2. Branch, simboliza uma instância de um projeto ou repositório, por exemplo, todo projeto começa com uma branch master, a partir dela novas branchs podem ser criadas e desta forma, se várias pessoas tiverem que mexer no mesmo código cada uma pode ter sua prória branch com a mesma versão do código que está na master."
   ]
  },
  {
   "cell_type": "markdown",
   "metadata": {},
   "source": [
    "## 1. Como instalar o GitHub no Ubuntu\n",
    "\n",
    "Para utilizar o github no ubuntu, primeiramente, devemos nos certificar que ele já esteja instalado no computador, \n",
    " para isso siga as instruções abaixo.\n",
    " \n",
    " Digite o codigo abaixo (sem o sifrão):\n",
    "    \n",
    "    $ sudo apt-get install git"
   ]
  },
  {
   "cell_type": "markdown",
   "metadata": {},
   "source": [
    "## 2. Como clonar um repositório"
   ]
  },
  {
   "cell_type": "markdown",
   "metadata": {},
   "source": [
    "Para iniciarmos, vamos clonar um repositório que já existe em sua prória conta. Para isso, utilize o comando abaixo:\n",
    "\n",
    "    $ git clone  *url do repositório*"
   ]
  },
  {
   "cell_type": "markdown",
   "metadata": {},
   "source": [
    "## 3. Como criar um repositório"
   ]
  },
  {
   "cell_type": "markdown",
   "metadata": {},
   "source": [
    "## 4. Como dar commit no repositório"
   ]
  },
  {
   "cell_type": "markdown",
   "metadata": {},
   "source": [
    "## 5. Criar uma nova branch no repositório"
   ]
  },
  {
   "cell_type": "code",
   "execution_count": null,
   "metadata": {},
   "outputs": [],
   "source": []
  }
 ],
 "metadata": {
  "kernelspec": {
   "display_name": "Python 3",
   "language": "python",
   "name": "python3"
  },
  "language_info": {
   "codemirror_mode": {
    "name": "ipython",
    "version": 3
   },
   "file_extension": ".py",
   "mimetype": "text/x-python",
   "name": "python",
   "nbconvert_exporter": "python",
   "pygments_lexer": "ipython3",
   "version": "3.7.3"
  }
 },
 "nbformat": 4,
 "nbformat_minor": 2
}
